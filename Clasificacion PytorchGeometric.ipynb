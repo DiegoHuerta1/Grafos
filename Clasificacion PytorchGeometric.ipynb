{
 "cells": [
  {
   "cell_type": "code",
   "execution_count": 1,
   "id": "aa63bcec",
   "metadata": {},
   "outputs": [],
   "source": [
    "import numpy as np\n",
    "import math\n",
    "import matplotlib.pyplot as plt\n",
    "\n",
    "import torch\n",
    "import torch.nn as nn\n",
    "from torch_geometric.data import Dataset\n",
    "from torch_geometric.data import Data\n",
    "from torch_geometric.loader import DataLoader\n",
    "\n",
    "from torch.nn import Linear\n",
    "from torch_geometric.nn import GCNConv\n",
    "from torch_geometric.nn import global_mean_pool"
   ]
  },
  {
   "cell_type": "code",
   "execution_count": 2,
   "id": "7a926ebf",
   "metadata": {},
   "outputs": [],
   "source": [
    "# Importar funciones importantes de grafos de mi autoria\n",
    "from funciones_grafos import *"
   ]
  },
  {
   "cell_type": "markdown",
   "id": "5344eaff",
   "metadata": {},
   "source": [
    "## Clasificacion Binaria (conectividad grafo 20x20) con Pytorch Geometric"
   ]
  },
  {
   "cell_type": "markdown",
   "id": "a0851fc9",
   "metadata": {},
   "source": [
    "#### Hyper parameters"
   ]
  },
  {
   "cell_type": "code",
   "execution_count": 3,
   "id": "68dd1db1",
   "metadata": {},
   "outputs": [],
   "source": [
    "# que porcentaje de los 1000000 datos se van a usar\n",
    "porcentaje_datos = 0.2\n",
    "# que porcentaje de los datos a utilizar es de entrenamiento\n",
    "tr_r = 0.5\n",
    "# tamaño de un batch\n",
    "batch_s = 1280\n",
    "# learning rate\n",
    "lr = 0.005\n",
    "# numero de epocas a entrenar\n",
    "num_epochs = 30"
   ]
  },
  {
   "cell_type": "markdown",
   "id": "c37437e3",
   "metadata": {},
   "source": [
    "### Funcion para crear un dataset"
   ]
  },
  {
   "cell_type": "code",
   "execution_count": 4,
   "id": "8ccc31da",
   "metadata": {},
   "outputs": [],
   "source": [
    "class create_pytorchGeometric_dataset(Dataset):\n",
    "    \n",
    "    def __init__(self, name_datos_graphs, name_datos_labels, porcentaje = 1):\n",
    "        super().__init__()\n",
    "        \n",
    "        # obtener la ruta completa de los archivos\n",
    "        file_path_datos_graphs = '.\\\\datos\\\\' + name_datos_graphs + '.npy'\n",
    "        file_path_datos_labels = '.\\\\datos\\\\' + name_datos_labels + '.npy'\n",
    "        # cargar los datos\n",
    "        self.datos_grafos = np.load(file_path_datos_graphs)\n",
    "        self.datos_labels = np.load(file_path_datos_labels)\n",
    "        \n",
    "        # solo tomar un porcentaje de los datos, delimitar la longuitud del dataset\n",
    "        self.cantidad = len(self.datos_labels)\n",
    "        self.datos_grafos = self.datos_grafos[:int(porcentaje * self.cantidad)]\n",
    "        self.datos_labels = self.datos_labels[:int(porcentaje * self.cantidad)]\n",
    "        self.cantidad = len(self.datos_labels)\n",
    "        \n",
    "    # longuitud del dataset\n",
    "    def len(self):\n",
    "        return self.cantidad\n",
    "\n",
    "    # obtener un elemento, asociado con el indice idx\n",
    "    # esto consiste en un objeto data, que representa un grafo y su label\n",
    "    def get(self, idx):\n",
    "        # como  no se tienen node-features, se usa la matriz identidad\n",
    "        # recordar que tenemos grafos 20x20\n",
    "        x = np.eye(20)\n",
    "        x = torch.from_numpy(x).float()\n",
    "        \n",
    "        # tomar el vector del grafo en cuestion\n",
    "        vector = self.datos_grafos[idx]\n",
    "        # crear el edge_index y hacerlo un tensor\n",
    "        edge_index = vector_to_edge_index(vector)\n",
    "        edge_index = torch.from_numpy(edge_index)\n",
    "        \n",
    "        # tomar el label del grafo y hacerlo tensor\n",
    "        y = self.datos_labels[idx]\n",
    "        y = torch.tensor([y]).long()\n",
    "        \n",
    "        # crear el objeto data y devolverlo\n",
    "        return Data(x=x, edge_index=edge_index, y=y)"
   ]
  },
  {
   "cell_type": "markdown",
   "id": "cd3f8524",
   "metadata": {},
   "source": [
    "### Crear el dataset\n",
    "\n",
    "Haciendo uso de los datos creados en \"Crear_Datos.IPYNB\""
   ]
  },
  {
   "cell_type": "code",
   "execution_count": 5,
   "id": "ada681e5",
   "metadata": {},
   "outputs": [],
   "source": [
    "file_X = 'datos_edros_N1000000_n20_multiple_p'\n",
    "file_y =  'datos_edros_N1000000_n20_multiple_p_etiqueta_conectividad'\n",
    "dataset = create_pytorchGeometric_dataset(file_X, file_y, porcentaje_datos)"
   ]
  },
  {
   "cell_type": "markdown",
   "id": "86f88bd7",
   "metadata": {},
   "source": [
    "### Ver un poco el dataset"
   ]
  },
  {
   "cell_type": "code",
   "execution_count": 6,
   "id": "a4138c8f",
   "metadata": {},
   "outputs": [
    {
     "name": "stdout",
     "output_type": "stream",
     "text": [
      "Number of graphs: 200000\n",
      "Number of classes: 2\n"
     ]
    }
   ],
   "source": [
    "numero_grafos = len(dataset)\n",
    "print(f'Number of graphs: {numero_grafos}')\n",
    "num_c = dataset.num_classes\n",
    "print(f'Number of classes: {num_c}')"
   ]
  },
  {
   "cell_type": "code",
   "execution_count": 7,
   "id": "4433aa01",
   "metadata": {},
   "outputs": [
    {
     "name": "stdout",
     "output_type": "stream",
     "text": [
      "Data(x=[20, 20], edge_index=[2, 40], y=[1])\n",
      "Number of nodes: 20\n",
      "Number of edges: 40\n",
      "Average node degree: 2.00\n",
      "Has isolated nodes: True\n",
      "Has self-loops: False\n",
      "Is undirected: True\n"
     ]
    }
   ],
   "source": [
    "# Gather some statistics about the first graph.\n",
    "data = dataset[0]  # Get the first graph object.\n",
    "print(data)\n",
    "print(f'Number of nodes: {data.num_nodes}')\n",
    "print(f'Number of edges: {data.num_edges}')\n",
    "print(f'Average node degree: {data.num_edges / data.num_nodes:.2f}')\n",
    "print(f'Has isolated nodes: {data.has_isolated_nodes()}')\n",
    "print(f'Has self-loops: {data.has_self_loops()}')\n",
    "print(f'Is undirected: {data.is_undirected()}')"
   ]
  },
  {
   "cell_type": "markdown",
   "id": "be58a03d",
   "metadata": {},
   "source": [
    "### Dividir en entrenamiento y prueba"
   ]
  },
  {
   "cell_type": "code",
   "execution_count": 8,
   "id": "53e26156",
   "metadata": {},
   "outputs": [],
   "source": [
    "# proporciones de entrenamiento y test\n",
    "train_ratio = tr_r\n",
    "division_train_test = int(numero_grafos * train_ratio)\n",
    "\n",
    "train_dataset = dataset[:division_train_test]\n",
    "test_dataset = dataset[division_train_test:]"
   ]
  },
  {
   "cell_type": "code",
   "execution_count": 9,
   "id": "43d59f6b",
   "metadata": {},
   "outputs": [
    {
     "name": "stdout",
     "output_type": "stream",
     "text": [
      "Number of training graphs: 100000\n",
      "Number of test graphs: 100000\n"
     ]
    }
   ],
   "source": [
    "print(f'Number of training graphs: {len(train_dataset)}')\n",
    "print(f'Number of test graphs: {len(test_dataset)}')"
   ]
  },
  {
   "cell_type": "markdown",
   "id": "6494a9ff",
   "metadata": {},
   "source": [
    "### Hacer los Data Loaders"
   ]
  },
  {
   "cell_type": "code",
   "execution_count": 10,
   "id": "aac2f3c0",
   "metadata": {},
   "outputs": [],
   "source": [
    "train_loader = DataLoader(train_dataset, batch_size=batch_s, shuffle=True)\n",
    "test_loader = DataLoader(test_dataset, batch_size=batch_s, shuffle=False)"
   ]
  },
  {
   "cell_type": "markdown",
   "id": "28f59100",
   "metadata": {},
   "source": [
    "### Crear Modelo"
   ]
  },
  {
   "cell_type": "code",
   "execution_count": 11,
   "id": "a31f9a89",
   "metadata": {},
   "outputs": [],
   "source": [
    "# Modelo de GCN para clasificacion de grafos\n",
    "\n",
    "class GCN(torch.nn.Module):\n",
    "    \n",
    "    def __init__(self, input_size, hidden, n_classes):\n",
    "        super(GCN, self).__init__()\n",
    "        \n",
    "        self.conv1 = GCNConv(input_size, hidden)\n",
    "        self.conv2 = GCNConv(hidden, hidden)\n",
    "        self.conv3 = GCNConv(hidden, hidden)\n",
    "        \n",
    "        self.lin = Linear(hidden, n_classes)\n",
    "        self.final_activation = nn.Softmax(dim=1)\n",
    "\n",
    "    def forward(self, x, edge_index, batch):\n",
    "        # Obtener representaciones vectoriales de los nodos\n",
    "        x = self.conv1(x, edge_index)    # primera capa:            Input (20)     ---> hidden_channels\n",
    "        x = x.relu()                     # función de activación:   ReLU\n",
    "        x = self.conv2(x, edge_index)    # capa oculta:             hidden_channels ---> hidden_channels\n",
    "        x = x.relu()                     # función de activación:   ReLU\n",
    "        x = self.conv3(x, edge_index)    # capa oculta:             hidden_channels ---> hidden_channels\n",
    "        # Obtener representacion vectorial del grafo \n",
    "        x = global_mean_pool(x, batch)  # pooling                   Mean pool  \n",
    "        # Clasificador final\n",
    "        x = self.lin(x)                 # clasificador:             hidden_channels ----> n_classes (2)\n",
    "        x = self.final_activation(x)    # funcion de activacion:    SoftMax \n",
    "        \n",
    "        return x"
   ]
  },
  {
   "cell_type": "code",
   "execution_count": 12,
   "id": "5aabd350",
   "metadata": {},
   "outputs": [
    {
     "data": {
      "text/plain": [
       "GCN(\n",
       "  (conv1): GCNConv(20, 20)\n",
       "  (conv2): GCNConv(20, 20)\n",
       "  (conv3): GCNConv(20, 20)\n",
       "  (lin): Linear(in_features=20, out_features=2, bias=True)\n",
       "  (final_activation): Softmax(dim=1)\n",
       ")"
      ]
     },
     "execution_count": 12,
     "metadata": {},
     "output_type": "execute_result"
    }
   ],
   "source": [
    "# Instanciar el modelo\n",
    "model = GCN(input_size = 20, hidden=20, n_classes = 2)\n",
    "model"
   ]
  },
  {
   "cell_type": "markdown",
   "id": "68400759",
   "metadata": {},
   "source": [
    "### Enternamiento"
   ]
  },
  {
   "cell_type": "code",
   "execution_count": 13,
   "id": "841c5b64",
   "metadata": {},
   "outputs": [],
   "source": [
    "# parametros entrenamiento\n",
    "optimizer = torch.optim.Adam(model.parameters(), lr=lr)\n",
    "loss_function = torch.nn.CrossEntropyLoss()"
   ]
  },
  {
   "cell_type": "markdown",
   "id": "8b86eba3",
   "metadata": {},
   "source": [
    "Funcion de entrenamiento (un epoch)"
   ]
  },
  {
   "cell_type": "code",
   "execution_count": 14,
   "id": "ed28ac64",
   "metadata": {},
   "outputs": [],
   "source": [
    "def train():\n",
    "    \n",
    "    # poner el modelo en modo de entrenamiento\n",
    "    model.train()\n",
    "    \n",
    "    # pasar los batches nescesarios para terminar un epoch en el training set\n",
    "    for data in train_loader: \n",
    "        # Obtener las predicciones\n",
    "        out = model(data.x, data.edge_index, data.batch)\n",
    "        # Calcular la funcion de perdida\n",
    "        loss = loss_function(out, data.y)\n",
    "        # Hacer backpropagation y actualizar los pesos\n",
    "        loss.backward()           # Derive gradients.\n",
    "        optimizer.step()          # Update parameters based on gradients.\n",
    "        optimizer.zero_grad()     # Clear gradients."
   ]
  },
  {
   "cell_type": "markdown",
   "id": "ea9952ad",
   "metadata": {},
   "source": [
    "Funcion para obtener el el loss en un loader"
   ]
  },
  {
   "cell_type": "code",
   "execution_count": 15,
   "id": "c18afded",
   "metadata": {},
   "outputs": [],
   "source": [
    "def compute_loss(loader):\n",
    "    # se da como argumento un data loader, se evalua la perdida en este\n",
    "    \n",
    "    # poner el modelo en modo de evaluar\n",
    "    model.eval()\n",
    "\n",
    "    # perdida total\n",
    "    total_loss = 0\n",
    "    # numero de samples\n",
    "    total_samples = 0\n",
    "    \n",
    "    # pasar los bathces que tiene el loader\n",
    "    with torch.no_grad():\n",
    "        for data in loader:\n",
    "            # Obtener las predicciones\n",
    "            out = model(data.x, data.edge_index, data.batch)\n",
    "\n",
    "            n_samples = data.y.shape[0]\n",
    "            # Calcular la perdida total: MSE * num_samples\n",
    "            total_loss += loss_function(out, data.y).item() * n_samples\n",
    "            total_samples += n_samples\n",
    "\n",
    "    # Devolver la funcion de costo promedio\n",
    "    return total_loss/total_samples"
   ]
  },
  {
   "cell_type": "markdown",
   "id": "6edc7e53",
   "metadata": {},
   "source": [
    "Funcion para evaluar la presicion"
   ]
  },
  {
   "cell_type": "code",
   "execution_count": 16,
   "id": "1037d504",
   "metadata": {},
   "outputs": [],
   "source": [
    "def compute_acc(loader):\n",
    "    # se da como argumento un data loader, se evalua la presicion en este\n",
    "    \n",
    "    # poner el modelo en modo de evaluar\n",
    "    model.eval()\n",
    "\n",
    "    # predicciones correctas\n",
    "    correct = 0\n",
    "    \n",
    "    # pasar los bathces que tiene el loader\n",
    "    with torch.no_grad():\n",
    "        for data in loader: \n",
    "            # prediccion (recordar que son 2 numeros, probabilidades)\n",
    "            out = model(data.x, data.edge_index, data.batch)  \n",
    "            # usar la clase con mas probabilidad\n",
    "            pred = out.argmax(dim=1) \n",
    "            # ver cuantas prediccioens de clases fueron correctas\n",
    "            correct += int((pred == data.y).sum()) \n",
    "    \n",
    "    # ver la presicion: correctas/totales\n",
    "    acc = correct / len(loader.dataset)\n",
    "    \n",
    "    return acc"
   ]
  },
  {
   "cell_type": "markdown",
   "id": "33671255",
   "metadata": {},
   "source": [
    "Realizar entrenamiento"
   ]
  },
  {
   "cell_type": "code",
   "execution_count": 17,
   "id": "30cbc1d0",
   "metadata": {},
   "outputs": [],
   "source": [
    "# datos a guardar en entrenamiento\n",
    "hist_train_loss = []\n",
    "hist_test_loss = []\n",
    "\n",
    "hist_train_acc = []\n",
    "hist_test_acc = []"
   ]
  },
  {
   "cell_type": "code",
   "execution_count": 18,
   "id": "2bb6a427",
   "metadata": {},
   "outputs": [
    {
     "name": "stdout",
     "output_type": "stream",
     "text": [
      "Entrenando en 100000 datos\n",
      "Evaluando en 100000 datos\n",
      "------------------------------------------\n",
      "Epoch:[1/30], Train Loss: 0.3649, Test Loss: 0.3649, Train Acc: 0.9486, Test Acc: 0.9480 \n",
      "Epoch:[2/30], Train Loss: 0.3272, Test Loss: 0.3273, Train Acc: 0.9927, Test Acc: 0.9927 \n",
      "Epoch:[3/30], Train Loss: 0.3195, Test Loss: 0.3196, Train Acc: 0.9948, Test Acc: 0.9947 \n",
      "Epoch:[4/30], Train Loss: 0.3184, Test Loss: 0.3185, Train Acc: 0.9954, Test Acc: 0.9952 \n",
      "Epoch:[5/30], Train Loss: 0.3179, Test Loss: 0.3180, Train Acc: 0.9954, Test Acc: 0.9955 \n",
      "Epoch:[6/30], Train Loss: 0.3175, Test Loss: 0.3176, Train Acc: 0.9958, Test Acc: 0.9957 \n",
      "Epoch:[7/30], Train Loss: 0.3170, Test Loss: 0.3173, Train Acc: 0.9966, Test Acc: 0.9961 \n",
      "Epoch:[8/30], Train Loss: 0.3171, Test Loss: 0.3173, Train Acc: 0.9963, Test Acc: 0.9960 \n",
      "Epoch:[9/30], Train Loss: 0.3165, Test Loss: 0.3168, Train Acc: 0.9970, Test Acc: 0.9966 \n",
      "Epoch:[10/30], Train Loss: 0.3168, Test Loss: 0.3170, Train Acc: 0.9965, Test Acc: 0.9962 \n",
      "Epoch:[11/30], Train Loss: 0.3162, Test Loss: 0.3165, Train Acc: 0.9973, Test Acc: 0.9969 \n",
      "Epoch:[12/30], Train Loss: 0.3160, Test Loss: 0.3164, Train Acc: 0.9974, Test Acc: 0.9970 \n",
      "Epoch:[13/30], Train Loss: 0.3161, Test Loss: 0.3165, Train Acc: 0.9974, Test Acc: 0.9969 \n",
      "Epoch:[14/30], Train Loss: 0.3159, Test Loss: 0.3164, Train Acc: 0.9974, Test Acc: 0.9970 \n",
      "Epoch:[15/30], Train Loss: 0.3159, Test Loss: 0.3164, Train Acc: 0.9974, Test Acc: 0.9968 \n",
      "Epoch:[16/30], Train Loss: 0.3157, Test Loss: 0.3161, Train Acc: 0.9977, Test Acc: 0.9972 \n",
      "Epoch:[17/30], Train Loss: 0.3156, Test Loss: 0.3163, Train Acc: 0.9978, Test Acc: 0.9970 \n",
      "Epoch:[18/30], Train Loss: 0.3155, Test Loss: 0.3161, Train Acc: 0.9979, Test Acc: 0.9972 \n",
      "Epoch:[19/30], Train Loss: 0.3155, Test Loss: 0.3161, Train Acc: 0.9980, Test Acc: 0.9972 \n",
      "Epoch:[20/30], Train Loss: 0.3155, Test Loss: 0.3162, Train Acc: 0.9979, Test Acc: 0.9970 \n",
      "Epoch:[21/30], Train Loss: 0.3154, Test Loss: 0.3160, Train Acc: 0.9979, Test Acc: 0.9974 \n",
      "Epoch:[22/30], Train Loss: 0.3158, Test Loss: 0.3164, Train Acc: 0.9976, Test Acc: 0.9969 \n",
      "Epoch:[23/30], Train Loss: 0.3153, Test Loss: 0.3160, Train Acc: 0.9981, Test Acc: 0.9972 \n",
      "Epoch:[24/30], Train Loss: 0.3152, Test Loss: 0.3159, Train Acc: 0.9982, Test Acc: 0.9974 \n",
      "Epoch:[25/30], Train Loss: 0.3153, Test Loss: 0.3159, Train Acc: 0.9979, Test Acc: 0.9973 \n",
      "Epoch:[26/30], Train Loss: 0.3150, Test Loss: 0.3158, Train Acc: 0.9983, Test Acc: 0.9974 \n",
      "Epoch:[27/30], Train Loss: 0.3152, Test Loss: 0.3158, Train Acc: 0.9981, Test Acc: 0.9974 \n",
      "Epoch:[28/30], Train Loss: 0.3149, Test Loss: 0.3157, Train Acc: 0.9984, Test Acc: 0.9975 \n",
      "Epoch:[29/30], Train Loss: 0.3150, Test Loss: 0.3157, Train Acc: 0.9983, Test Acc: 0.9976 \n",
      "Epoch:[30/30], Train Loss: 0.3149, Test Loss: 0.3158, Train Acc: 0.9985, Test Acc: 0.9974 \n"
     ]
    }
   ],
   "source": [
    "print('Entrenando en',train_loader.dataset.__len__() , 'datos')\n",
    "print('Evaluando en',test_loader.dataset.__len__() , 'datos')\n",
    "print('------------------------------------------')\n",
    "\n",
    "# iterar en las epoch\n",
    "for epoch in range(num_epochs):\n",
    "    # entrenar\n",
    "    train()\n",
    "    \n",
    "    # obtener loss en train y test\n",
    "    training_loss = compute_loss(train_loader)\n",
    "    testing_loss = compute_loss(test_loader)\n",
    "    # obtener presiciones en train y test\n",
    "    training_acc = compute_acc(train_loader)\n",
    "    testing_acc = compute_acc(test_loader)\n",
    "    \n",
    "    # guardarlas\n",
    "    hist_train_loss += [training_loss]\n",
    "    hist_test_loss += [testing_loss]\n",
    "    hist_train_acc += [training_acc]\n",
    "    hist_test_acc += [testing_acc]\n",
    "    \n",
    "    # Imprimir reporte\n",
    "    print(f'Epoch:[{epoch+1}/{num_epochs}], Train Loss: {training_loss:.4f}, Test Loss: {testing_loss:.4f}, Train Acc: {training_acc:.4f}, Test Acc: {testing_acc:.4f} ')"
   ]
  },
  {
   "cell_type": "code",
   "execution_count": 19,
   "id": "6a1ea086",
   "metadata": {},
   "outputs": [],
   "source": [
    "# guardar las metricas de entrenamiento\n",
    "\n",
    "hist_train_loss = np.array(hist_train_loss)\n",
    "np.save('.\\historiales\\pytorchGeom_class_loss_train', hist_train_loss)\n",
    "hist_test_loss = np.array(hist_test_loss)\n",
    "np.save('.\\historiales\\pytorchGeom_class_loss_test', hist_test_loss)\n",
    "\n",
    "hist_train_acc = np.array(hist_train_acc)\n",
    "np.save('.\\historiales\\pytorchGeom_class_acc_train', hist_train_acc)\n",
    "hist_test_acc = np.array(hist_test_acc)\n",
    "np.save('.\\historiales\\pytorchGeom_class_acc_test', hist_test_acc)"
   ]
  },
  {
   "cell_type": "markdown",
   "id": "e2e595a5",
   "metadata": {},
   "source": [
    "Graficar entrenamiento"
   ]
  },
  {
   "cell_type": "code",
   "execution_count": 20,
   "id": "bf6043aa",
   "metadata": {},
   "outputs": [
    {
     "data": {
      "image/png": "[encoded data removed]",
      "text/plain": [
       "<Figure size 1000x400 with 2 Axes>"
      ]
     },
     "metadata": {},
     "output_type": "display_data"
    }
   ],
   "source": [
    "fig, (ax1, ax2) = plt.subplots(1, 2, figsize=(10, 4))\n",
    "\n",
    "ax1.plot(hist_train_loss, label = 'training')\n",
    "ax1.plot(hist_test_loss, label = 'testing')\n",
    "ax1.set_xlabel('Epoch')\n",
    "ax1.set_ylabel('Loss')\n",
    "ax1.set_title('Loss')\n",
    "ax1.legend()\n",
    "\n",
    "ax2.plot(hist_train_acc, label = 'training')\n",
    "ax2.plot(hist_test_acc, label = 'testing')\n",
    "ax2.set_xlabel('Epoch')\n",
    "ax2.set_ylabel('Accuracy')\n",
    "ax2.set_title('Accuracy')\n",
    "ax2.legend()\n",
    "\n",
    "plt.show()"
   ]
  },
  {
   "cell_type": "markdown",
   "id": "465400ce",
   "metadata": {},
   "source": [
    "### Guardar modelo"
   ]
  },
  {
   "cell_type": "code",
   "execution_count": 24,
   "id": "0a1e12a0",
   "metadata": {},
   "outputs": [],
   "source": [
    "ruta_archivo = '.\\modelos\\pytorch_geometric_conectividad_model1.pth'\n",
    "#torch.save(model.state_dict(), ruta_archivo)"
   ]
  },
  {
   "cell_type": "markdown",
   "id": "4dc70946",
   "metadata": {},
   "source": [
    "Cargar el modelo"
   ]
  },
  {
   "cell_type": "code",
   "execution_count": 22,
   "id": "1f9e39af",
   "metadata": {},
   "outputs": [],
   "source": [
    "#model_new = GCN(input_size = 20, hidden=20, n_classes = 2)\n",
    "#model_new.load_state_dict(torch.load(ruta_archivo))"
   ]
  }
 ],
 "metadata": {
  "kernelspec": {
   "display_name": "gnn",
   "language": "python",
   "name": "gnn"
  },
  "language_info": {
   "codemirror_mode": {
    "name": "ipython",
    "version": 3
   },
   "file_extension": ".py",
   "mimetype": "text/x-python",
   "name": "python",
   "nbconvert_exporter": "python",
   "pygments_lexer": "ipython3",
   "version": "3.10.11"
  }
 },
 "nbformat": 4,
 "nbformat_minor": 5
}
