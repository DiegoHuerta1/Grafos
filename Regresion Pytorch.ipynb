{
 "cells": [
  {
   "cell_type": "code",
   "execution_count": 1,
   "id": "e7ca6728",
   "metadata": {},
   "outputs": [],
   "source": [
    "import numpy as np\n",
    "import math\n",
    "import matplotlib.pyplot as plt\n",
    "\n",
    "import torch\n",
    "import torch.nn as nn\n",
    "from torch.utils.data import Dataset\n",
    "from torch.utils.data import DataLoader\n",
    "from torch.utils.data import random_split"
   ]
  },
  {
   "cell_type": "code",
   "execution_count": 2,
   "id": "b4fae4ef",
   "metadata": {},
   "outputs": [],
   "source": [
    "# Importar funciones importantes de grafos de mi autoria\n",
    "from funciones_grafos import *"
   ]
  },
  {
   "cell_type": "markdown",
   "id": "5344eaff",
   "metadata": {},
   "source": [
    "## Regresion (energia grafo 20x20) con Pytorch"
   ]
  },
  {
   "cell_type": "markdown",
   "id": "d5bf14a6",
   "metadata": {},
   "source": [
    "#### Hyper parameters"
   ]
  },
  {
   "cell_type": "code",
   "execution_count": 3,
   "id": "ab45fd16",
   "metadata": {},
   "outputs": [],
   "source": [
    "# que porcentaje de los 1000000 datos se van a usar\n",
    "porcentaje_datos = 0.2\n",
    "# que porcentaje de los datos a utilizar es de entrenamiento\n",
    "tr_r = 0.5\n",
    "# tamaño de un batch\n",
    "batch_s = 1280\n",
    "# learning rate\n",
    "lr = 0.005\n",
    "# numero de epocas a entrenar\n",
    "num_epochs = 30"
   ]
  },
  {
   "cell_type": "markdown",
   "id": "c49a61aa",
   "metadata": {},
   "source": [
    "### Funcion para crear un dataset"
   ]
  },
  {
   "cell_type": "code",
   "execution_count": 4,
   "id": "4abbda2c",
   "metadata": {},
   "outputs": [],
   "source": [
    "class create_pytorch_dataset(Dataset):\n",
    "    \n",
    "    def __init__(self, name_datos_graphs, name_datos_labels, porcentaje = 1):\n",
    "        super().__init__()\n",
    "        \n",
    "        # obtener la ruta completa de los archivos\n",
    "        file_path_datos_graphs = '.\\\\datos\\\\' + name_datos_graphs + '.npy'\n",
    "        file_path_datos_labels = '.\\\\datos\\\\' + name_datos_labels + '.npy'\n",
    "        # cargar los datos\n",
    "        self.datos_grafos = np.load(file_path_datos_graphs)\n",
    "        self.datos_labels = np.load(file_path_datos_labels)\n",
    "        \n",
    "        # solo tomar un porcentaje de los datos, delimitar la longuitud del dataset\n",
    "        self.cantidad = len(self.datos_labels)\n",
    "        self.datos_grafos = self.datos_grafos[:int(porcentaje * self.cantidad)]\n",
    "        self.datos_labels = self.datos_labels[:int(porcentaje * self.cantidad)]\n",
    "        self.cantidad = len(self.datos_labels)\n",
    "        \n",
    "    # longuitud del dataset    \n",
    "    def __len__(self):\n",
    "        return self.cantidad\n",
    "    \n",
    "    # obtener un elemento, asociado con el indice idx\n",
    "    # esto consiste en un grafo (representacion vectorial) y su etiqueta\n",
    "    def __getitem__(self, idx):\n",
    "        grafo = self.datos_grafos[idx]\n",
    "        etiqueta = self.datos_labels[idx]\n",
    "        \n",
    "        # hacerlos tensor con el tipo de dato correcto\n",
    "        grafo = torch.from_numpy(grafo).float()\n",
    "        etiqueta  = torch.tensor([etiqueta]).float()                           \n",
    "        return grafo, etiqueta"
   ]
  },
  {
   "cell_type": "markdown",
   "id": "ff869287",
   "metadata": {},
   "source": [
    "### Crear el dataset\n",
    "\n",
    "Haciendo uso de los datos creados en \"Crear_Datos.IPYNB\""
   ]
  },
  {
   "cell_type": "code",
   "execution_count": 5,
   "id": "9044c418",
   "metadata": {},
   "outputs": [],
   "source": [
    "file_X = 'datos_edros_N1000000_n20_multiple_p'\n",
    "file_y = 'datos_edros_N1000000_n20_multiple_p_etiqueta_energia'\n",
    "dataset = create_pytorch_dataset(file_X, file_y, porcentaje_datos)"
   ]
  },
  {
   "cell_type": "markdown",
   "id": "d732dc32",
   "metadata": {},
   "source": [
    "### Ver un poco el dataset"
   ]
  },
  {
   "cell_type": "code",
   "execution_count": 6,
   "id": "24fec270",
   "metadata": {},
   "outputs": [
    {
     "name": "stdout",
     "output_type": "stream",
     "text": [
      "Number of graphs: 200000\n"
     ]
    }
   ],
   "source": [
    "numero_grafos = len(dataset)\n",
    "print(f'Number of graphs: {numero_grafos}')"
   ]
  },
  {
   "cell_type": "markdown",
   "id": "e3e77cb2",
   "metadata": {},
   "source": [
    "### Dividir en entrenamiento y prueba"
   ]
  },
  {
   "cell_type": "code",
   "execution_count": 7,
   "id": "9071b3db",
   "metadata": {},
   "outputs": [],
   "source": [
    "# proporciones de entrenamiento y test\n",
    "train_ratio = tr_r\n",
    "test_ratio = 1 - train_ratio\n",
    "\n",
    "# Calcula el tamaño de cada conjunto basado en la proporción\n",
    "train_size = int(train_ratio * len(dataset))\n",
    "test_size = len(dataset) - train_size\n",
    "\n",
    "# Divide el dataset en conjuntos de entrenamiento y prueba\n",
    "train_dataset, test_dataset = random_split(dataset, [train_size, test_size])"
   ]
  },
  {
   "cell_type": "code",
   "execution_count": 8,
   "id": "0903798e",
   "metadata": {},
   "outputs": [
    {
     "name": "stdout",
     "output_type": "stream",
     "text": [
      "Number of training graphs: 100000\n",
      "Number of test graphs: 100000\n"
     ]
    }
   ],
   "source": [
    "print(f'Number of training graphs: {len(train_dataset)}')\n",
    "print(f'Number of test graphs: {len(test_dataset)}')"
   ]
  },
  {
   "cell_type": "markdown",
   "id": "ffa431b4",
   "metadata": {},
   "source": [
    "### Hacer los Data Loaders"
   ]
  },
  {
   "cell_type": "code",
   "execution_count": 9,
   "id": "e8a96129",
   "metadata": {},
   "outputs": [],
   "source": [
    "train_loader = DataLoader(train_dataset, batch_size=batch_s, shuffle=True)\n",
    "test_loader = DataLoader(test_dataset, batch_size=batch_s, shuffle=False)"
   ]
  },
  {
   "cell_type": "markdown",
   "id": "8fba5b4c",
   "metadata": {},
   "source": [
    "### Crear Modelo"
   ]
  },
  {
   "cell_type": "code",
   "execution_count": 10,
   "id": "fbe7a526",
   "metadata": {},
   "outputs": [],
   "source": [
    "# Modelo de MLP para regresion de grafos\n",
    "\n",
    "class MLP_reg(nn.Module):\n",
    "    \n",
    "    def __init__(self, input_size, hidden):\n",
    "        super(MLP_reg, self).__init__()\n",
    "        \n",
    "        self.estructura = nn.Sequential(\n",
    "            nn.Linear(input_size, hidden),   # primera capa:            Input (190)---> hidden\n",
    "            nn.ReLU(),                       # función de activación:   ReLU\n",
    "            nn.Linear(hidden, hidden),       # capa oculta:             hidden     ---> hidden\n",
    "            nn.ReLU(),                       # función de activación:   ReLU\n",
    "            nn.Linear(hidden, hidden),       # capa oculta:             hidden     ---> hidden\n",
    "            nn.ReLU(),                       # función de activación:   ReLU\n",
    "            nn.Linear(hidden, 1),            # capa de salida:          hidden     ---> 1\n",
    "        )\n",
    "    \n",
    "    def forward(self, x):\n",
    "        \n",
    "        return self.estructura(x)"
   ]
  },
  {
   "cell_type": "code",
   "execution_count": 11,
   "id": "174a0c5d",
   "metadata": {},
   "outputs": [
    {
     "data": {
      "text/plain": [
       "MLP_reg(\n",
       "  (estructura): Sequential(\n",
       "    (0): Linear(in_features=190, out_features=300, bias=True)\n",
       "    (1): ReLU()\n",
       "    (2): Linear(in_features=300, out_features=300, bias=True)\n",
       "    (3): ReLU()\n",
       "    (4): Linear(in_features=300, out_features=300, bias=True)\n",
       "    (5): ReLU()\n",
       "    (6): Linear(in_features=300, out_features=1, bias=True)\n",
       "  )\n",
       ")"
      ]
     },
     "execution_count": 11,
     "metadata": {},
     "output_type": "execute_result"
    }
   ],
   "source": [
    "# Instanciar el modelo\n",
    "model = MLP_reg(input_size = 190, hidden = 300)\n",
    "model"
   ]
  },
  {
   "cell_type": "markdown",
   "id": "2fab8152",
   "metadata": {},
   "source": [
    "### Enternamiento"
   ]
  },
  {
   "cell_type": "code",
   "execution_count": 12,
   "id": "bbda6129",
   "metadata": {},
   "outputs": [],
   "source": [
    "# parametros entrenamiento\n",
    "optimizer = torch.optim.Adam(model.parameters(), lr=lr)\n",
    "loss_function = torch.nn.MSELoss()"
   ]
  },
  {
   "cell_type": "markdown",
   "id": "2e769485",
   "metadata": {},
   "source": [
    "Funcion de entrenamiento"
   ]
  },
  {
   "cell_type": "code",
   "execution_count": 13,
   "id": "1d416982",
   "metadata": {},
   "outputs": [],
   "source": [
    "def train():\n",
    "    # poner el modelo en modo de entrenamiento\n",
    "    model.train()\n",
    "    \n",
    "    # pasar los batches nescesarios para terminar un epoch en el training set\n",
    "    for data in train_loader: \n",
    "        # obtener el grafo y la etiqueta (energia)\n",
    "        x, y = data\n",
    "        # Obtener las predicciones\n",
    "        out = model(x)\n",
    "        # Calcular la funcion de perdida\n",
    "        loss = loss_function(out, y)\n",
    "        # Hacer backpropagation y actualizar los pesos\n",
    "        loss.backward()           # Derive gradients.\n",
    "        optimizer.step()          # Update parameters based on gradients.\n",
    "        optimizer.zero_grad()     # Clear gradients."
   ]
  },
  {
   "cell_type": "markdown",
   "id": "1052b440",
   "metadata": {},
   "source": [
    "Funcion para obtener el el loss en un loader"
   ]
  },
  {
   "cell_type": "code",
   "execution_count": 14,
   "id": "a97fbde5",
   "metadata": {},
   "outputs": [],
   "source": [
    "def compute_loss(loader):\n",
    "    # se da como argumento un data loader, se evalua la perdida en este\n",
    "    \n",
    "    # poner el modelo en modo de evaluar\n",
    "    model.eval()\n",
    "\n",
    "    # perdida total\n",
    "    total_loss = 0\n",
    "    # numero de samples\n",
    "    total_samples = 0\n",
    "    \n",
    "    # pasar los bathces que tiene el loader\n",
    "    with torch.no_grad():\n",
    "        for data in loader:\n",
    "            # obtener el grafo y la etiqueta\n",
    "            x, y = data\n",
    "            # prediccion \n",
    "            out = model(x)\n",
    "\n",
    "            n_samples = y.shape[0]\n",
    "            # Calcular la perdida total: MSE * num_samples\n",
    "            total_loss += loss_function(out, y).item() * n_samples\n",
    "            total_samples += n_samples\n",
    "\n",
    "    # Devolver la funcion de costo promedio\n",
    "    return total_loss/total_samples"
   ]
  },
  {
   "cell_type": "markdown",
   "id": "68a2ffe2",
   "metadata": {},
   "source": [
    "Realizar entrenamiento"
   ]
  },
  {
   "cell_type": "code",
   "execution_count": 15,
   "id": "9cda1a54",
   "metadata": {},
   "outputs": [],
   "source": [
    "# datos a guardar en entrenamiento\n",
    "hist_train_loss = []\n",
    "hist_test_loss = []"
   ]
  },
  {
   "cell_type": "code",
   "execution_count": 16,
   "id": "64346856",
   "metadata": {},
   "outputs": [
    {
     "name": "stdout",
     "output_type": "stream",
     "text": [
      "Entrenando en 100000 datos\n",
      "Evaluando en 100000 datos\n",
      "------------------------------------------\n",
      "Epoch:[1/30], Train Loss: 11.3363, Test Loss: 11.4533\n",
      "Epoch:[2/30], Train Loss: 7.2987, Test Loss: 7.4362\n",
      "Epoch:[3/30], Train Loss: 6.6627, Test Loss: 6.8411\n",
      "Epoch:[4/30], Train Loss: 4.5458, Test Loss: 4.7437\n",
      "Epoch:[5/30], Train Loss: 1.8227, Test Loss: 1.9106\n",
      "Epoch:[6/30], Train Loss: 1.4061, Test Loss: 1.5016\n",
      "Epoch:[7/30], Train Loss: 1.2556, Test Loss: 1.3647\n",
      "Epoch:[8/30], Train Loss: 1.1498, Test Loss: 1.2742\n",
      "Epoch:[9/30], Train Loss: 1.0578, Test Loss: 1.1886\n",
      "Epoch:[10/30], Train Loss: 0.9903, Test Loss: 1.1290\n",
      "Epoch:[11/30], Train Loss: 0.9539, Test Loss: 1.1060\n",
      "Epoch:[12/30], Train Loss: 0.8952, Test Loss: 1.0572\n",
      "Epoch:[13/30], Train Loss: 1.3436, Test Loss: 1.5152\n",
      "Epoch:[14/30], Train Loss: 1.0721, Test Loss: 1.2511\n",
      "Epoch:[15/30], Train Loss: 0.9401, Test Loss: 1.1331\n",
      "Epoch:[16/30], Train Loss: 0.9795, Test Loss: 1.1761\n",
      "Epoch:[17/30], Train Loss: 0.8928, Test Loss: 1.1022\n",
      "Epoch:[18/30], Train Loss: 0.9073, Test Loss: 1.1278\n",
      "Epoch:[19/30], Train Loss: 0.7103, Test Loss: 0.9351\n",
      "Epoch:[20/30], Train Loss: 0.8648, Test Loss: 1.0969\n",
      "Epoch:[21/30], Train Loss: 1.1961, Test Loss: 1.4366\n",
      "Epoch:[22/30], Train Loss: 1.1878, Test Loss: 1.4316\n",
      "Epoch:[23/30], Train Loss: 0.8837, Test Loss: 1.1380\n",
      "Epoch:[24/30], Train Loss: 0.6477, Test Loss: 0.9045\n",
      "Epoch:[25/30], Train Loss: 0.7309, Test Loss: 0.9926\n",
      "Epoch:[26/30], Train Loss: 0.5753, Test Loss: 0.8393\n",
      "Epoch:[27/30], Train Loss: 0.7356, Test Loss: 1.0013\n",
      "Epoch:[28/30], Train Loss: 0.5322, Test Loss: 0.8054\n",
      "Epoch:[29/30], Train Loss: 0.8059, Test Loss: 1.0751\n",
      "Epoch:[30/30], Train Loss: 0.4921, Test Loss: 0.7629\n"
     ]
    }
   ],
   "source": [
    "print('Entrenando en',train_loader.dataset.__len__() , 'datos')\n",
    "print('Evaluando en',test_loader.dataset.__len__() , 'datos')\n",
    "print('------------------------------------------')\n",
    "\n",
    "# iterar en las epoch\n",
    "for epoch in range(num_epochs):\n",
    "    # entrenar\n",
    "    train()\n",
    "    # obtener loss en train y test\n",
    "    training_loss = compute_loss(train_loader)\n",
    "    testing_loss = compute_loss(test_loader)\n",
    "    \n",
    "    # guardarlas\n",
    "    hist_train_loss += [training_loss]\n",
    "    hist_test_loss += [testing_loss]\n",
    "    \n",
    "    # Imprimir reporte\n",
    "    print(f'Epoch:[{epoch+1}/{num_epochs}], Train Loss: {training_loss:.4f}, Test Loss: {testing_loss:.4f}')"
   ]
  },
  {
   "cell_type": "code",
   "execution_count": 17,
   "id": "e363d5b8",
   "metadata": {},
   "outputs": [],
   "source": [
    "# guardar la perdida en el entrenamiento\n",
    "hist_train_loss = np.array(hist_train_loss)\n",
    "np.save('.\\historiales\\pytorch_reg_loss_train', hist_train_loss)\n",
    "hist_test_loss = np.array(hist_test_loss)\n",
    "np.save('.\\historiales\\pytorch_reg_loss_test', hist_test_loss)"
   ]
  },
  {
   "cell_type": "markdown",
   "id": "8c2b0994",
   "metadata": {},
   "source": [
    "Graficar entrenamiento"
   ]
  },
  {
   "cell_type": "code",
   "execution_count": 18,
   "id": "2f33d515",
   "metadata": {},
   "outputs": [
    {
     "data": {
      "image/png": "[encoded data removed]",
      "text/plain": [
       "<Figure size 640x480 with 1 Axes>"
      ]
     },
     "metadata": {},
     "output_type": "display_data"
    }
   ],
   "source": [
    "plt.plot(hist_train_loss, label = 'training')\n",
    "plt.plot(hist_test_loss, label = 'testing')\n",
    "plt.xlabel('Epoch')\n",
    "plt.ylabel('Loss')\n",
    "plt.legend()\n",
    "plt.title('Loss')\n",
    "plt.show()"
   ]
  },
  {
   "cell_type": "markdown",
   "id": "a5a72d1b",
   "metadata": {},
   "source": [
    "### Guardar modelo\n",
    "\n",
    "Cuidado de no reescribir"
   ]
  },
  {
   "cell_type": "code",
   "execution_count": 22,
   "id": "abfbfb05",
   "metadata": {},
   "outputs": [],
   "source": [
    "ruta_archivo = '.\\modelos\\pytorch_regresion_model1.pth'\n",
    "# torch.save(model.state_dict(), ruta_archivo)"
   ]
  },
  {
   "cell_type": "markdown",
   "id": "a0ecda7b",
   "metadata": {},
   "source": [
    "Cargar el modelo"
   ]
  },
  {
   "cell_type": "code",
   "execution_count": 20,
   "id": "4bfa8798",
   "metadata": {},
   "outputs": [],
   "source": [
    "#model_new = MLP_reg(input_size = 190, hidden = 300)\n",
    "#model_new.load_state_dict(torch.load(ruta_archivo))"
   ]
  }
 ],
 "metadata": {
  "kernelspec": {
   "display_name": "gnn",
   "language": "python",
   "name": "gnn"
  },
  "language_info": {
   "codemirror_mode": {
    "name": "ipython",
    "version": 3
   },
   "file_extension": ".py",
   "mimetype": "text/x-python",
   "name": "python",
   "nbconvert_exporter": "python",
   "pygments_lexer": "ipython3",
   "version": "3.10.11"
  }
 },
 "nbformat": 4,
 "nbformat_minor": 5
}
