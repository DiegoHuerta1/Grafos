{
 "cells": [
  {
   "cell_type": "code",
   "execution_count": 1,
   "id": "6b85bd97",
   "metadata": {},
   "outputs": [],
   "source": [
    "import numpy as np\n",
    "import math\n",
    "import matplotlib.pyplot as plt\n",
    "\n",
    "import torch\n",
    "import torch.nn as nn\n",
    "from torch.utils.data import Dataset\n",
    "from torch.utils.data import DataLoader\n",
    "from torch.utils.data import random_split"
   ]
  },
  {
   "cell_type": "code",
   "execution_count": 2,
   "id": "65b68ff6",
   "metadata": {},
   "outputs": [],
   "source": [
    "# Importar funciones importantes de grafos de mi autoria\n",
    "from funciones_grafos import *"
   ]
  },
  {
   "cell_type": "markdown",
   "id": "5344eaff",
   "metadata": {},
   "source": [
    "## Clasificacion Binaria (conectividad grafo 20x20) con Pytorch"
   ]
  },
  {
   "cell_type": "markdown",
   "id": "d5bf14a6",
   "metadata": {},
   "source": [
    "#### Hyper parameters"
   ]
  },
  {
   "cell_type": "code",
   "execution_count": 3,
   "id": "3cdaef7c",
   "metadata": {},
   "outputs": [],
   "source": [
    "# que porcentaje de los 1000000 datos se van a usar\n",
    "porcentaje_datos = 0.2\n",
    "# que porcentaje de los datos a utilizar es de entrenamiento\n",
    "tr_r = 0.5\n",
    "# tamaño de un batch\n",
    "batch_s = 1280\n",
    "# learning rate\n",
    "lr = 0.005\n",
    "# numero de epocas a entrenar\n",
    "num_epochs = 30"
   ]
  },
  {
   "cell_type": "markdown",
   "id": "a647f7bc",
   "metadata": {},
   "source": [
    "### Funcion para crear un dataset"
   ]
  },
  {
   "cell_type": "code",
   "execution_count": 4,
   "id": "0cd96205",
   "metadata": {},
   "outputs": [],
   "source": [
    "class create_pytorch_dataset(Dataset):\n",
    "    \n",
    "    def __init__(self, name_datos_graphs, name_datos_labels, porcentaje = 1):\n",
    "        super().__init__()\n",
    "        \n",
    "        # obtener la ruta completa de los archivos\n",
    "        file_path_datos_graphs = '.\\\\datos\\\\' + name_datos_graphs + '.npy'\n",
    "        file_path_datos_labels = '.\\\\datos\\\\' + name_datos_labels + '.npy'\n",
    "        # cargar los datos\n",
    "        self.datos_grafos = np.load(file_path_datos_graphs)\n",
    "        self.datos_labels = np.load(file_path_datos_labels)\n",
    "        \n",
    "        # solo tomar un porcentaje de los datos, delimitar la longuitud del dataset\n",
    "        self.cantidad = len(self.datos_labels)\n",
    "        self.datos_grafos = self.datos_grafos[:int(porcentaje * self.cantidad)]\n",
    "        self.datos_labels = self.datos_labels[:int(porcentaje * self.cantidad)]\n",
    "        self.cantidad = len(self.datos_labels)\n",
    "        \n",
    "    # longuitud del dataset    \n",
    "    def __len__(self):\n",
    "        return self.cantidad\n",
    "    \n",
    "    # obtener un elemento, asociado con el indice idx\n",
    "    # esto consiste en un grafo (representacion vectorial) y su etiqueta\n",
    "    def __getitem__(self, idx):\n",
    "        grafo = self.datos_grafos[idx]\n",
    "        etiqueta = self.datos_labels[idx]\n",
    "        \n",
    "        # hacerlos tensor con el tipo de dato correcto\n",
    "        grafo = torch.from_numpy(grafo).float()\n",
    "        #etiqueta = torch.tensor(np.array([etiqueta])).long()\n",
    "        etiqueta  = torch.tensor(etiqueta).long()                           \n",
    "        return grafo, etiqueta"
   ]
  },
  {
   "cell_type": "markdown",
   "id": "aa776aae",
   "metadata": {},
   "source": [
    "### Crear el dataset\n",
    "\n",
    "Haciendo uso de los datos creados en \"Crear_Datos.IPYNB\""
   ]
  },
  {
   "cell_type": "code",
   "execution_count": 5,
   "id": "48ff8ab3",
   "metadata": {},
   "outputs": [],
   "source": [
    "file_X = 'datos_edros_N1000000_n20_multiple_p'\n",
    "file_y =  'datos_edros_N1000000_n20_multiple_p_etiqueta_conectividad'\n",
    "dataset = create_pytorch_dataset(file_X, file_y, porcentaje_datos)"
   ]
  },
  {
   "cell_type": "markdown",
   "id": "d732dc32",
   "metadata": {},
   "source": [
    "### Ver un poco el dataset"
   ]
  },
  {
   "cell_type": "code",
   "execution_count": 6,
   "id": "4ce5c1f9",
   "metadata": {},
   "outputs": [
    {
     "name": "stdout",
     "output_type": "stream",
     "text": [
      "Number of graphs: 200000\n",
      "Number of classes: 2\n"
     ]
    }
   ],
   "source": [
    "numero_grafos = len(dataset)\n",
    "print(f'Number of graphs: {numero_grafos}')\n",
    "num_c = len(np.unique(dataset.datos_labels))\n",
    "print(f'Number of classes: {num_c}')"
   ]
  },
  {
   "cell_type": "markdown",
   "id": "e3e77cb2",
   "metadata": {},
   "source": [
    "### Dividir en entrenamiento y prueba"
   ]
  },
  {
   "cell_type": "code",
   "execution_count": 7,
   "id": "7933223b",
   "metadata": {},
   "outputs": [],
   "source": [
    "# proporciones de entrenamiento y test\n",
    "train_ratio = tr_r\n",
    "test_ratio = 1 - train_ratio\n",
    "\n",
    "# Calcula el tamaño de cada conjunto basado en la proporción\n",
    "train_size = int(train_ratio * len(dataset))\n",
    "test_size = len(dataset) - train_size\n",
    "\n",
    "# Divide el dataset en conjuntos de entrenamiento y prueba\n",
    "train_dataset, test_dataset = random_split(dataset, [train_size, test_size])"
   ]
  },
  {
   "cell_type": "code",
   "execution_count": 8,
   "id": "2f68b0c4",
   "metadata": {},
   "outputs": [
    {
     "name": "stdout",
     "output_type": "stream",
     "text": [
      "Number of training graphs: 100000\n",
      "Number of test graphs: 100000\n"
     ]
    }
   ],
   "source": [
    "print(f'Number of training graphs: {len(train_dataset)}')\n",
    "print(f'Number of test graphs: {len(test_dataset)}')"
   ]
  },
  {
   "cell_type": "markdown",
   "id": "a527e5b2",
   "metadata": {},
   "source": [
    "### Hacer los Data Loaders"
   ]
  },
  {
   "cell_type": "code",
   "execution_count": 9,
   "id": "1432d12e",
   "metadata": {},
   "outputs": [],
   "source": [
    "train_loader = DataLoader(train_dataset, batch_size=batch_s, shuffle=True)\n",
    "test_loader = DataLoader(test_dataset, batch_size=batch_s, shuffle=False)"
   ]
  },
  {
   "cell_type": "markdown",
   "id": "28f59100",
   "metadata": {},
   "source": [
    "### Crear Modelo"
   ]
  },
  {
   "cell_type": "code",
   "execution_count": 10,
   "id": "e3a997df",
   "metadata": {},
   "outputs": [],
   "source": [
    "# Modelo de MLP para clasificacion de grafos\n",
    "\n",
    "class MLP(nn.Module):\n",
    "    \n",
    "    def __init__(self, input_size, hidden, n_classes):\n",
    "        super(MLP, self).__init__()\n",
    "        \n",
    "        self.estructura = nn.Sequential(\n",
    "            nn.Linear(input_size, hidden),   # primera capa:            Input (190)---> hidden\n",
    "            nn.ReLU(),                       # función de activación:   ReLU\n",
    "            nn.Linear(hidden, hidden),       # capa oculta:             hidden     ---> hidden\n",
    "            nn.ReLU(),                       # función de activación:   ReLU\n",
    "            nn.Linear(hidden, hidden),       # capa oculta:             hidden     ---> hidden\n",
    "            nn.ReLU(),                       # función de activación:   ReLU\n",
    "            nn.Linear(hidden, n_classes),    # capa de salida:          hidden     ---> n_classes (2)\n",
    "            nn.Softmax(dim=1)                 # funcion de activacion:   SoftMax \n",
    "        )\n",
    "    \n",
    "    def forward(self, x):\n",
    "        \n",
    "        return self.estructura(x)"
   ]
  },
  {
   "cell_type": "code",
   "execution_count": 11,
   "id": "c1452e87",
   "metadata": {},
   "outputs": [
    {
     "data": {
      "text/plain": [
       "MLP(\n",
       "  (estructura): Sequential(\n",
       "    (0): Linear(in_features=190, out_features=300, bias=True)\n",
       "    (1): ReLU()\n",
       "    (2): Linear(in_features=300, out_features=300, bias=True)\n",
       "    (3): ReLU()\n",
       "    (4): Linear(in_features=300, out_features=300, bias=True)\n",
       "    (5): ReLU()\n",
       "    (6): Linear(in_features=300, out_features=2, bias=True)\n",
       "    (7): Softmax(dim=1)\n",
       "  )\n",
       ")"
      ]
     },
     "execution_count": 11,
     "metadata": {},
     "output_type": "execute_result"
    }
   ],
   "source": [
    "# Instanciar el modelo\n",
    "model = MLP(input_size = 190, hidden = 300, n_classes = 2)\n",
    "model"
   ]
  },
  {
   "cell_type": "markdown",
   "id": "386e4357",
   "metadata": {},
   "source": [
    "### Enternamiento"
   ]
  },
  {
   "cell_type": "code",
   "execution_count": 12,
   "id": "b82f1f64",
   "metadata": {},
   "outputs": [],
   "source": [
    "# parametros entrenamiento\n",
    "optimizer = torch.optim.Adam(model.parameters(), lr=lr)\n",
    "loss_function = torch.nn.CrossEntropyLoss()"
   ]
  },
  {
   "cell_type": "markdown",
   "id": "1644b621",
   "metadata": {},
   "source": [
    "Funcion de entrenamiento"
   ]
  },
  {
   "cell_type": "code",
   "execution_count": 13,
   "id": "df08d6d8",
   "metadata": {},
   "outputs": [],
   "source": [
    "def train():\n",
    "    # poner el modelo en modo de entrenamiento\n",
    "    model.train()\n",
    "    \n",
    "    # pasar los batches nescesarios para terminar un epoch en el training set\n",
    "    for data in train_loader: \n",
    "        # obtener el grafo y la etiqueta\n",
    "        x, y = data\n",
    "        # Obtener las predicciones\n",
    "        out = model(x)\n",
    "        # Calcular la funcion de perdida\n",
    "        loss = loss_function(out, y)\n",
    "        # Hacer backpropagation y actualizar los pesos\n",
    "        loss.backward()           # Derive gradients.\n",
    "        optimizer.step()          # Update parameters based on gradients.\n",
    "        optimizer.zero_grad()     # Clear gradients."
   ]
  },
  {
   "cell_type": "markdown",
   "id": "f1fb4fe1",
   "metadata": {},
   "source": [
    "Funcion para obtener el el loss en un loader"
   ]
  },
  {
   "cell_type": "code",
   "execution_count": 14,
   "id": "27fe0477",
   "metadata": {},
   "outputs": [],
   "source": [
    "def compute_loss(loader):\n",
    "    # se da como argumento un data loader, se evalua la perdida en este\n",
    "    \n",
    "    # poner el modelo en modo de evaluar\n",
    "    model.eval()\n",
    "\n",
    "    # perdida total\n",
    "    total_loss = 0\n",
    "    # numero de samples\n",
    "    total_samples = 0\n",
    "    \n",
    "    # pasar los bathces que tiene el loader\n",
    "    with torch.no_grad():\n",
    "        for data in loader:\n",
    "            # obtener el grafo y la etiqueta\n",
    "            x, y = data\n",
    "            # prediccion \n",
    "            out = model(x)\n",
    "\n",
    "            n_samples = y.shape[0]\n",
    "            # Calcular la perdida total: MSE * num_samples\n",
    "            total_loss += loss_function(out, y).item() * n_samples\n",
    "            total_samples += n_samples\n",
    "\n",
    "    # Devolver la funcion de costo promedio\n",
    "    return total_loss/total_samples"
   ]
  },
  {
   "cell_type": "markdown",
   "id": "8b239bd0",
   "metadata": {},
   "source": [
    "Funcion para evaluar la presicion"
   ]
  },
  {
   "cell_type": "code",
   "execution_count": 15,
   "id": "5942dffd",
   "metadata": {},
   "outputs": [],
   "source": [
    "def compute_acc(loader):\n",
    "    # se da como argumento un data loader, se evalua la presicion en este\n",
    "    \n",
    "    # poner el modelo en modo de evaluar\n",
    "    model.eval()\n",
    "\n",
    "    # predicciones correctas\n",
    "    correct = 0\n",
    "    \n",
    "    # pasar los bathces que tiene el loader\n",
    "    with torch.no_grad():\n",
    "        for data in loader:\n",
    "            # obtener el grafo y la etiqueta\n",
    "            x, y = data\n",
    "            # prediccion (recordar que son 2 numeros, probabilidades)\n",
    "            out = model(x)  \n",
    "            # usar la clase con mas probabilidad\n",
    "            pred = out.argmax(dim=1) \n",
    "            # ver cuantas prediccioens de clases fueron correctas\n",
    "            correct += int((pred == y).sum()) \n",
    "    \n",
    "    # ver la presicion: correctas/totales\n",
    "    acc = correct / len(loader.dataset)\n",
    "    \n",
    "    return acc"
   ]
  },
  {
   "cell_type": "markdown",
   "id": "68a2ffe2",
   "metadata": {},
   "source": [
    "Realizar entrenamiento"
   ]
  },
  {
   "cell_type": "code",
   "execution_count": 16,
   "id": "9c6dde48",
   "metadata": {},
   "outputs": [],
   "source": [
    "# datos a guardar en entrenamiento\n",
    "hist_train_loss = []\n",
    "hist_test_loss = []\n",
    "\n",
    "hist_train_acc = []\n",
    "hist_test_acc = []"
   ]
  },
  {
   "cell_type": "code",
   "execution_count": 17,
   "id": "17724152",
   "metadata": {},
   "outputs": [
    {
     "name": "stdout",
     "output_type": "stream",
     "text": [
      "Entrenando en 100000 datos\n",
      "Evaluando en 100000 datos\n",
      "------------------------------------------\n",
      "Epoch:[1/30], Train Loss: 0.3857, Test Loss: 0.3904, Train Acc: 0.9240, Test Acc: 0.9189 \n",
      "Epoch:[2/30], Train Loss: 0.3769, Test Loss: 0.3879, Train Acc: 0.9341, Test Acc: 0.9213 \n",
      "Epoch:[3/30], Train Loss: 0.3704, Test Loss: 0.3877, Train Acc: 0.9414, Test Acc: 0.9220 \n",
      "Epoch:[4/30], Train Loss: 0.3668, Test Loss: 0.3899, Train Acc: 0.9452, Test Acc: 0.9202 \n",
      "Epoch:[5/30], Train Loss: 0.3651, Test Loss: 0.3911, Train Acc: 0.9468, Test Acc: 0.9188 \n",
      "Epoch:[6/30], Train Loss: 0.3735, Test Loss: 0.3978, Train Acc: 0.9371, Test Acc: 0.9123 \n",
      "Epoch:[7/30], Train Loss: 0.3568, Test Loss: 0.3905, Train Acc: 0.9556, Test Acc: 0.9204 \n",
      "Epoch:[8/30], Train Loss: 0.3582, Test Loss: 0.3921, Train Acc: 0.9543, Test Acc: 0.9187 \n",
      "Epoch:[9/30], Train Loss: 0.3528, Test Loss: 0.3906, Train Acc: 0.9600, Test Acc: 0.9204 \n",
      "Epoch:[10/30], Train Loss: 0.3526, Test Loss: 0.3917, Train Acc: 0.9600, Test Acc: 0.9197 \n",
      "Epoch:[11/30], Train Loss: 0.3558, Test Loss: 0.3945, Train Acc: 0.9564, Test Acc: 0.9166 \n",
      "Epoch:[12/30], Train Loss: 0.3494, Test Loss: 0.3924, Train Acc: 0.9635, Test Acc: 0.9190 \n",
      "Epoch:[13/30], Train Loss: 0.3496, Test Loss: 0.3925, Train Acc: 0.9633, Test Acc: 0.9190 \n",
      "Epoch:[14/30], Train Loss: 0.3484, Test Loss: 0.3926, Train Acc: 0.9647, Test Acc: 0.9188 \n",
      "Epoch:[15/30], Train Loss: 0.3514, Test Loss: 0.3936, Train Acc: 0.9614, Test Acc: 0.9183 \n",
      "Epoch:[16/30], Train Loss: 0.3481, Test Loss: 0.3929, Train Acc: 0.9647, Test Acc: 0.9187 \n",
      "Epoch:[17/30], Train Loss: 0.3472, Test Loss: 0.3932, Train Acc: 0.9656, Test Acc: 0.9188 \n",
      "Epoch:[18/30], Train Loss: 0.3507, Test Loss: 0.3951, Train Acc: 0.9619, Test Acc: 0.9164 \n",
      "Epoch:[19/30], Train Loss: 0.3450, Test Loss: 0.3931, Train Acc: 0.9679, Test Acc: 0.9186 \n",
      "Epoch:[20/30], Train Loss: 0.3462, Test Loss: 0.3943, Train Acc: 0.9666, Test Acc: 0.9174 \n",
      "Epoch:[21/30], Train Loss: 0.3440, Test Loss: 0.3936, Train Acc: 0.9690, Test Acc: 0.9184 \n",
      "Epoch:[22/30], Train Loss: 0.3455, Test Loss: 0.3942, Train Acc: 0.9675, Test Acc: 0.9178 \n",
      "Epoch:[23/30], Train Loss: 0.3435, Test Loss: 0.3938, Train Acc: 0.9697, Test Acc: 0.9182 \n",
      "Epoch:[24/30], Train Loss: 0.3432, Test Loss: 0.3941, Train Acc: 0.9698, Test Acc: 0.9179 \n",
      "Epoch:[25/30], Train Loss: 0.3428, Test Loss: 0.3940, Train Acc: 0.9701, Test Acc: 0.9180 \n",
      "Epoch:[26/30], Train Loss: 0.3427, Test Loss: 0.3936, Train Acc: 0.9704, Test Acc: 0.9183 \n",
      "Epoch:[27/30], Train Loss: 0.3418, Test Loss: 0.3945, Train Acc: 0.9712, Test Acc: 0.9176 \n",
      "Epoch:[28/30], Train Loss: 0.3431, Test Loss: 0.3940, Train Acc: 0.9700, Test Acc: 0.9180 \n",
      "Epoch:[29/30], Train Loss: 0.3424, Test Loss: 0.3946, Train Acc: 0.9705, Test Acc: 0.9173 \n",
      "Epoch:[30/30], Train Loss: 0.3408, Test Loss: 0.3941, Train Acc: 0.9724, Test Acc: 0.9177 \n"
     ]
    }
   ],
   "source": [
    "print('Entrenando en',train_loader.dataset.__len__() , 'datos')\n",
    "print('Evaluando en',test_loader.dataset.__len__() , 'datos')\n",
    "print('------------------------------------------')\n",
    "\n",
    "# iterar en las epoch\n",
    "for epoch in range(num_epochs):\n",
    "    # entrenar\n",
    "    train()\n",
    "    \n",
    "    # obtener loss en train y test\n",
    "    training_loss = compute_loss(train_loader)\n",
    "    testing_loss = compute_loss(test_loader)\n",
    "    # obtener presiciones en train y test\n",
    "    training_acc = compute_acc(train_loader)\n",
    "    testing_acc = compute_acc(test_loader)\n",
    "    \n",
    "    # guardarlas\n",
    "    hist_train_loss += [training_loss]\n",
    "    hist_test_loss += [testing_loss]\n",
    "    hist_train_acc += [training_acc]\n",
    "    hist_test_acc += [testing_acc]\n",
    "    \n",
    "    # Imprimir reporte\n",
    "    print(f'Epoch:[{epoch+1}/{num_epochs}], Train Loss: {training_loss:.4f}, Test Loss: {testing_loss:.4f}, Train Acc: {training_acc:.4f}, Test Acc: {testing_acc:.4f} ')"
   ]
  },
  {
   "cell_type": "code",
   "execution_count": 18,
   "id": "ea24ca70",
   "metadata": {},
   "outputs": [],
   "source": [
    "# guardar las metricas de entrenamiento\n",
    "\n",
    "hist_train_loss = np.array(hist_train_loss)\n",
    "np.save('.\\historiales\\pytorch_class_loss_train', hist_train_loss)\n",
    "hist_test_loss = np.array(hist_test_loss)\n",
    "np.save('.\\historiales\\pytorch_class_loss_test', hist_test_loss)\n",
    "\n",
    "hist_train_acc = np.array(hist_train_acc)\n",
    "np.save('.\\historiales\\pytorch_class_acc_train', hist_train_acc)\n",
    "hist_test_acc = np.array(hist_test_acc)\n",
    "np.save('.\\historiales\\pytorch_class_acc_test', hist_test_acc)"
   ]
  },
  {
   "cell_type": "markdown",
   "id": "fa385580",
   "metadata": {},
   "source": [
    "Graficar entrenamiento"
   ]
  },
  {
   "cell_type": "code",
   "execution_count": 19,
   "id": "e0d5e4b6",
   "metadata": {},
   "outputs": [
    {
     "data": {
      "image/png": "[encoded data removed]",
      "text/plain": [
       "<Figure size 1000x400 with 2 Axes>"
      ]
     },
     "metadata": {},
     "output_type": "display_data"
    }
   ],
   "source": [
    "fig, (ax1, ax2) = plt.subplots(1, 2, figsize=(10, 4))\n",
    "\n",
    "ax1.plot(hist_train_loss, label = 'training')\n",
    "ax1.plot(hist_test_loss, label = 'testing')\n",
    "ax1.set_xlabel('Epoch')\n",
    "ax1.set_ylabel('Loss')\n",
    "ax1.set_title('Loss')\n",
    "ax1.legend()\n",
    "\n",
    "ax2.plot(hist_train_acc, label = 'training')\n",
    "ax2.plot(hist_test_acc, label = 'testing')\n",
    "ax2.set_xlabel('Epoch')\n",
    "ax2.set_ylabel('Accuracy')\n",
    "ax2.set_title('Accuracy')\n",
    "ax2.legend()\n",
    "\n",
    "plt.show()"
   ]
  },
  {
   "cell_type": "markdown",
   "id": "a5a72d1b",
   "metadata": {},
   "source": [
    "### Guardar modelo\n",
    "\n",
    "Cuidado de no reescribir"
   ]
  },
  {
   "cell_type": "code",
   "execution_count": 23,
   "id": "e5e3ac05",
   "metadata": {},
   "outputs": [],
   "source": [
    "ruta_archivo = '.\\modelos\\pytorch_conectividad_model1.pth'\n",
    "#torch.save(model.state_dict(), ruta_archivo)"
   ]
  },
  {
   "cell_type": "markdown",
   "id": "a0ecda7b",
   "metadata": {},
   "source": [
    "Cargar el modelo"
   ]
  },
  {
   "cell_type": "code",
   "execution_count": 21,
   "id": "000eed70",
   "metadata": {},
   "outputs": [],
   "source": [
    "#model_new = MLP(input_size = 190, hidden = 300, n_classes = 2)\n",
    "#model_new.load_state_dict(torch.load(ruta_archivo))"
   ]
  }
 ],
 "metadata": {
  "kernelspec": {
   "display_name": "gnn",
   "language": "python",
   "name": "gnn"
  },
  "language_info": {
   "codemirror_mode": {
    "name": "ipython",
    "version": 3
   },
   "file_extension": ".py",
   "mimetype": "text/x-python",
   "name": "python",
   "nbconvert_exporter": "python",
   "pygments_lexer": "ipython3",
   "version": "3.10.11"
  }
 },
 "nbformat": 4,
 "nbformat_minor": 5
}
