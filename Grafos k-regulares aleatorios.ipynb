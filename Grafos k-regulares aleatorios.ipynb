{
 "cells": [
  {
   "cell_type": "markdown",
   "id": "a73d20f3",
   "metadata": {},
   "source": [
    "### Grafos k-regulares aleatorios"
   ]
  },
  {
   "cell_type": "code",
   "execution_count": 1,
   "id": "a55930fa",
   "metadata": {},
   "outputs": [],
   "source": [
    "import numpy as np\n",
    "import random\n",
    "from funciones_grafos import *"
   ]
  },
  {
   "cell_type": "markdown",
   "id": "21c53ba7",
   "metadata": {},
   "source": [
    "Funcion para checar si un grafo es k regular"
   ]
  },
  {
   "cell_type": "code",
   "execution_count": 2,
   "id": "127bc259",
   "metadata": {},
   "outputs": [],
   "source": [
    "def k_regular(matriz, k):\n",
    "    # matriz - matriz de adyacencia del grafo\n",
    "    # checar si es k-regular\n",
    "    condicion1 = (matriz.sum(axis = 0)==k).all()\n",
    "    condicion2 = (matriz.sum(axis = 1)==k).all()\n",
    "    return condicion1 and condicion2"
   ]
  },
  {
   "cell_type": "markdown",
   "id": "59fc2431",
   "metadata": {},
   "source": [
    "Funcion que intenta hacer un grafo aleatorio d-regular, puede fallar"
   ]
  },
  {
   "cell_type": "code",
   "execution_count": 3,
   "id": "a39edfec",
   "metadata": {},
   "outputs": [],
   "source": [
    "def intento_random_regular_graph(n, d, p = 0):\n",
    "    # Intentar creat un grafo aleatorio de n nodos d-regular\n",
    "    # n - number of nodes\n",
    "    # d - degree of the nodes\n",
    "    # Se imprime el procedimiento sii p==1\n",
    "    \n",
    "    # lista en la que se ponen las conexinones del grafo mietras se crea\n",
    "    connection_list = [[] for _ in range(n)]\n",
    "    \n",
    "    # options es un array con las \"medias aristas\"\n",
    "    options = sorted(list(np.arange(n)) * d)\n",
    "    \n",
    "    # mientras existan \"medias aristas\" por conectar\n",
    "    while len(options) > 0:\n",
    "        \n",
    "        if p == 1:\n",
    "            print('conections', connection_list)\n",
    "            print('options', options)\n",
    "        # empezar por los nodos mas grandes\n",
    "        node = options[-1]\n",
    "        if p == 1:\n",
    "            print('node', node)\n",
    "            \n",
    "        # numero de \"medias aristas\" del nodo en cuestion\n",
    "        conections = options.count(node)\n",
    "        if p == 1:\n",
    "            print('make', conections, 'conections')\n",
    "            \n",
    "        # obtener las opciones a las que se pueden conectar, todos menos el\n",
    "        options_to_conect = set([element for element in options if element != node])\n",
    "        \n",
    "        # la probabilidad a conectarse a uno de estos nodos\n",
    "        # es proporcional al numero de \"medias aristas\" de los nodos\n",
    "        node_probability = np.array([[posible_node, options.count(posible_node)] for posible_node in options_to_conect])\n",
    "        nodes = node_probability[:, 0]\n",
    "        probabilities = node_probability[:, 1]\n",
    "        probabilities = probabilities / sum(probabilities)\n",
    "        if p == 1:\n",
    "            print('select from nodes', nodes)\n",
    "            print('with probabilities', probabilities)\n",
    "            \n",
    "        # hacer las conexiones al hazar, sin repetir\n",
    "        selected_nodes = np.random.choice(nodes, p = probabilities, size = (conections), replace = False)\n",
    "        if p == 1:\n",
    "            print('selected nodes:', selected_nodes)\n",
    "            \n",
    "        # actualizar la \"conection_list\"\n",
    "        connection_list[node] = sorted(list(selected_nodes), reverse = False)\n",
    "        if p == 1:\n",
    "            print('conections', connection_list)\n",
    "            \n",
    "        # actualizar las nuevas opciones\n",
    "        for i in selected_nodes:\n",
    "            options.remove(i)\n",
    "        for _ in range(conections):\n",
    "            options.remove(node)\n",
    "        if p == 1:\n",
    "            print('options', options)\n",
    "            print('-----------------------------------------------------------------------------------')\n",
    "        \n",
    "    # obtener la matriz de adyacencia del grafo creado a partir de la \"conection_list\"\n",
    "    matrix = np.zeros((n, n)) \n",
    "    for i, con_i in enumerate(connection_list):\n",
    "        matrix[i, con_i] = 1\n",
    "    matrix = matrix + matrix.T\n",
    "    \n",
    "    return matrix"
   ]
  },
  {
   "cell_type": "code",
   "execution_count": 4,
   "id": "64444193",
   "metadata": {},
   "outputs": [],
   "source": [
    "def random_regular_graph(n, d, p=0):\n",
    "    # Crea un grafo aleatorio de n nodos d-regular\n",
    "    # n - number of nodes\n",
    "    # d - degree of the nodes\n",
    "    # Se imprime el procedimiento sii p==1\n",
    "\n",
    "    # ver que se pueda\n",
    "    assert n*d % 2 == 0\n",
    "    \n",
    "    # hacer intentos hasta que uno se logre\n",
    "    try:\n",
    "        # si d>n/2, se puede hacer un grafo n-d-1 regular y tomar su complemento\n",
    "        if d> n//2:\n",
    "            # intentar hacer un grafo n-d-1 regular\n",
    "            matriz = intento_random_regular_graph(n, n-d-1, p)\n",
    "            # tomar el complemento\n",
    "            matriz = np.where(matriz == 0, 1, np.where(matriz == 1, 0, matriz))\n",
    "            np.fill_diagonal(matriz, np.zeros(n))\n",
    "        else:\n",
    "            # hacer un intento\n",
    "            matriz = intento_random_regular_graph(n, d, p)\n",
    "        return matriz\n",
    "    \n",
    "    # si no se puede, dar el mensaje y volver a intentar (recursion)\n",
    "    except Exception as e:\n",
    "        print('++++++++++++++++++++++++++++++++++++++++++++++++++++++++++++++++++++++++++++++++++++++++++')\n",
    "        print('YA NO SE PUEDE PROSEGUIR, INTENTAR DE NUEVO')\n",
    "        print('++++++++++++++++++++++++++++++++++++++++++++++++++++++++++++++++++++++++++++++++++++++++++')\n",
    "        \n",
    "        return random_regular_graph(n, d, p)"
   ]
  },
  {
   "cell_type": "markdown",
   "id": "0faedf32",
   "metadata": {},
   "source": [
    "Ejemplo de uso:"
   ]
  },
  {
   "cell_type": "code",
   "execution_count": 23,
   "id": "a271fc4f",
   "metadata": {
    "scrolled": true
   },
   "outputs": [
    {
     "name": "stdout",
     "output_type": "stream",
     "text": [
      "True\n"
     ]
    }
   ],
   "source": [
    "n= 10\n",
    "k= 5\n",
    "p=0\n",
    "\n",
    "adj_m = random_regular_graph(n,k,p)\n",
    "\n",
    "# checar si el resultado es correcto\n",
    "print(k_regular(adj_m, k))\n",
    "# ver el grafo\n",
    "#dibujar_grafo_circular_from_matriz(adj_m)"
   ]
  }
 ],
 "metadata": {
  "kernelspec": {
   "display_name": "sfu",
   "language": "python",
   "name": "sfu"
  },
  "language_info": {
   "codemirror_mode": {
    "name": "ipython",
    "version": 3
   },
   "file_extension": ".py",
   "mimetype": "text/x-python",
   "name": "python",
   "nbconvert_exporter": "python",
   "pygments_lexer": "ipython3",
   "version": "3.9.13"
  }
 },
 "nbformat": 4,
 "nbformat_minor": 5
}
